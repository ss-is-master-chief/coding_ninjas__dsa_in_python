{
  "nbformat": 4,
  "nbformat_minor": 0,
  "metadata": {
    "colab": {
      "name": "Recursion - 3.ipynb",
      "provenance": [],
      "authorship_tag": "ABX9TyMXTMzYFwiTX0pVjf6jxeGv",
      "include_colab_link": true
    },
    "kernelspec": {
      "name": "python3",
      "display_name": "Python 3"
    }
  },
  "cells": [
    {
      "cell_type": "markdown",
      "metadata": {
        "id": "view-in-github",
        "colab_type": "text"
      },
      "source": [
        "<a href=\"https://colab.research.google.com/github/ss-is-master-chief/DSA_CN/blob/master/Recursion_3.ipynb\" target=\"_parent\"><img src=\"https://colab.research.google.com/assets/colab-badge.svg\" alt=\"Open In Colab\"/></a>"
      ]
    },
    {
      "cell_type": "markdown",
      "metadata": {
        "id": "bIlKg4lDh9wB",
        "colab_type": "text"
      },
      "source": [
        "#### 1. Geometric Sum"
      ]
    },
    {
      "cell_type": "code",
      "metadata": {
        "id": "53adl9SsgeSF",
        "colab_type": "code",
        "outputId": "e8307ad1-40bd-44ad-8438-3726c96e7f3c",
        "colab": {
          "base_uri": "https://localhost:8080/",
          "height": 52
        }
      },
      "source": [
        "def geometricSum(n):\n",
        "    if(n==0):\n",
        "        return 1\n",
        "    val = 1/(2**n)\n",
        "    return val+geometricSum(n-1)\n",
        "\n",
        "\n",
        "n = int(input())\n",
        "print(\"{:.5f}\".format(geometricSum(n)))"
      ],
      "execution_count": 0,
      "outputs": [
        {
          "output_type": "stream",
          "text": [
            "5\n",
            "1.96875\n"
          ],
          "name": "stdout"
        }
      ]
    },
    {
      "cell_type": "markdown",
      "metadata": {
        "id": "NcA2GHhLiAi8",
        "colab_type": "text"
      },
      "source": [
        "#### 2. Check Palindrome (recursive)"
      ]
    },
    {
      "cell_type": "code",
      "metadata": {
        "id": "Jum9Icllh79y",
        "colab_type": "code",
        "outputId": "a328b7ee-43f9-4dd0-df44-20fac5029c84",
        "colab": {
          "base_uri": "https://localhost:8080/",
          "height": 52
        }
      },
      "source": [
        "def checkPalindrome(string):\n",
        "  if(len(string)==0 or len(string)==1):\n",
        "    print(\"true\")\n",
        "    return\n",
        "  if(string[0]==string[-1]):\n",
        "    checkPalindrome(string[1:-1])\n",
        "  else:\n",
        "    print(\"false\")\n",
        "    return\n",
        "\n",
        "string = input()\n",
        "checkPalindrome(string)"
      ],
      "execution_count": 0,
      "outputs": [
        {
          "output_type": "stream",
          "text": [
            "racecar\n",
            "true\n"
          ],
          "name": "stdout"
        }
      ]
    },
    {
      "cell_type": "markdown",
      "metadata": {
        "id": "djdlmFimlVvC",
        "colab_type": "text"
      },
      "source": [
        "#### 3. Sum of digits (recursive)"
      ]
    },
    {
      "cell_type": "code",
      "metadata": {
        "id": "eusVvY3mi4ik",
        "colab_type": "code",
        "outputId": "6c8ec14a-daed-4277-b853-831095befe0a",
        "colab": {
          "base_uri": "https://localhost:8080/",
          "height": 52
        }
      },
      "source": [
        "def recursiveSum(n):\n",
        "  if(len(n)==0):\n",
        "    return 0\n",
        "  return int(n[0]) + recursiveSum(n[1:])\n",
        "\n",
        "n = input()\n",
        "rsum  = recursiveSum(n)\n",
        "print(rsum)"
      ],
      "execution_count": 0,
      "outputs": [
        {
          "output_type": "stream",
          "text": [
            "12345\n",
            "15\n"
          ],
          "name": "stdout"
        }
      ]
    },
    {
      "cell_type": "markdown",
      "metadata": {
        "id": "u6MbheA4nC0e",
        "colab_type": "text"
      },
      "source": [
        "#### 4. Multiplication (Recursive)"
      ]
    },
    {
      "cell_type": "code",
      "metadata": {
        "id": "3fqIjAlslukO",
        "colab_type": "code",
        "outputId": "0bd241fe-9cd2-4206-d494-2f28f620e429",
        "colab": {
          "base_uri": "https://localhost:8080/",
          "height": 436
        }
      },
      "source": [
        "def recursiveMultiply(a, b):\n",
        "  if(b==1):\n",
        "    return a\n",
        "  return int(a + recursiveMultiply(a, b-1))\n",
        "\n",
        "\n",
        "a = int(input())\n",
        "b = int(input())\n",
        "\n",
        "rmult = recursiveMultiply(a, b)\n",
        "print(rmult)"
      ],
      "execution_count": 0,
      "outputs": [
        {
          "output_type": "stream",
          "text": [
            "10\n",
            "-6\n"
          ],
          "name": "stdout"
        },
        {
          "output_type": "error",
          "ename": "RecursionError",
          "evalue": "ignored",
          "traceback": [
            "\u001b[0;31m---------------------------------------------------------------------------\u001b[0m",
            "\u001b[0;31mRecursionError\u001b[0m                            Traceback (most recent call last)",
            "\u001b[0;32m<ipython-input-24-765bf28f48bb>\u001b[0m in \u001b[0;36m<module>\u001b[0;34m()\u001b[0m\n\u001b[1;32m      8\u001b[0m \u001b[0mb\u001b[0m \u001b[0;34m=\u001b[0m \u001b[0mint\u001b[0m\u001b[0;34m(\u001b[0m\u001b[0minput\u001b[0m\u001b[0;34m(\u001b[0m\u001b[0;34m)\u001b[0m\u001b[0;34m)\u001b[0m\u001b[0;34m\u001b[0m\u001b[0;34m\u001b[0m\u001b[0m\n\u001b[1;32m      9\u001b[0m \u001b[0;34m\u001b[0m\u001b[0m\n\u001b[0;32m---> 10\u001b[0;31m \u001b[0mrmult\u001b[0m \u001b[0;34m=\u001b[0m \u001b[0mrecursiveMultiply\u001b[0m\u001b[0;34m(\u001b[0m\u001b[0ma\u001b[0m\u001b[0;34m,\u001b[0m \u001b[0mb\u001b[0m\u001b[0;34m)\u001b[0m\u001b[0;34m\u001b[0m\u001b[0;34m\u001b[0m\u001b[0m\n\u001b[0m\u001b[1;32m     11\u001b[0m \u001b[0mprint\u001b[0m\u001b[0;34m(\u001b[0m\u001b[0mrmult\u001b[0m\u001b[0;34m)\u001b[0m\u001b[0;34m\u001b[0m\u001b[0;34m\u001b[0m\u001b[0m\n",
            "\u001b[0;32m<ipython-input-24-765bf28f48bb>\u001b[0m in \u001b[0;36mrecursiveMultiply\u001b[0;34m(a, b)\u001b[0m\n\u001b[1;32m      2\u001b[0m   \u001b[0;32mif\u001b[0m\u001b[0;34m(\u001b[0m\u001b[0mb\u001b[0m\u001b[0;34m==\u001b[0m\u001b[0;36m1\u001b[0m\u001b[0;34m)\u001b[0m\u001b[0;34m:\u001b[0m\u001b[0;34m\u001b[0m\u001b[0;34m\u001b[0m\u001b[0m\n\u001b[1;32m      3\u001b[0m     \u001b[0;32mreturn\u001b[0m \u001b[0ma\u001b[0m\u001b[0;34m\u001b[0m\u001b[0;34m\u001b[0m\u001b[0m\n\u001b[0;32m----> 4\u001b[0;31m   \u001b[0;32mreturn\u001b[0m \u001b[0mint\u001b[0m\u001b[0;34m(\u001b[0m\u001b[0ma\u001b[0m \u001b[0;34m+\u001b[0m \u001b[0mrecursiveMultiply\u001b[0m\u001b[0;34m(\u001b[0m\u001b[0ma\u001b[0m\u001b[0;34m,\u001b[0m \u001b[0mb\u001b[0m\u001b[0;34m-\u001b[0m\u001b[0;36m1\u001b[0m\u001b[0;34m)\u001b[0m\u001b[0;34m)\u001b[0m\u001b[0;34m\u001b[0m\u001b[0;34m\u001b[0m\u001b[0m\n\u001b[0m\u001b[1;32m      5\u001b[0m \u001b[0;34m\u001b[0m\u001b[0m\n\u001b[1;32m      6\u001b[0m \u001b[0;34m\u001b[0m\u001b[0m\n",
            "... last 1 frames repeated, from the frame below ...\n",
            "\u001b[0;32m<ipython-input-24-765bf28f48bb>\u001b[0m in \u001b[0;36mrecursiveMultiply\u001b[0;34m(a, b)\u001b[0m\n\u001b[1;32m      2\u001b[0m   \u001b[0;32mif\u001b[0m\u001b[0;34m(\u001b[0m\u001b[0mb\u001b[0m\u001b[0;34m==\u001b[0m\u001b[0;36m1\u001b[0m\u001b[0;34m)\u001b[0m\u001b[0;34m:\u001b[0m\u001b[0;34m\u001b[0m\u001b[0;34m\u001b[0m\u001b[0m\n\u001b[1;32m      3\u001b[0m     \u001b[0;32mreturn\u001b[0m \u001b[0ma\u001b[0m\u001b[0;34m\u001b[0m\u001b[0;34m\u001b[0m\u001b[0m\n\u001b[0;32m----> 4\u001b[0;31m   \u001b[0;32mreturn\u001b[0m \u001b[0mint\u001b[0m\u001b[0;34m(\u001b[0m\u001b[0ma\u001b[0m \u001b[0;34m+\u001b[0m \u001b[0mrecursiveMultiply\u001b[0m\u001b[0;34m(\u001b[0m\u001b[0ma\u001b[0m\u001b[0;34m,\u001b[0m \u001b[0mb\u001b[0m\u001b[0;34m-\u001b[0m\u001b[0;36m1\u001b[0m\u001b[0;34m)\u001b[0m\u001b[0;34m)\u001b[0m\u001b[0;34m\u001b[0m\u001b[0;34m\u001b[0m\u001b[0m\n\u001b[0m\u001b[1;32m      5\u001b[0m \u001b[0;34m\u001b[0m\u001b[0m\n\u001b[1;32m      6\u001b[0m \u001b[0;34m\u001b[0m\u001b[0m\n",
            "\u001b[0;31mRecursionError\u001b[0m: maximum recursion depth exceeded in comparison"
          ]
        }
      ]
    },
    {
      "cell_type": "markdown",
      "metadata": {
        "id": "WwbMytJ1r-kE",
        "colab_type": "text"
      },
      "source": [
        "#### 5. Count zeros"
      ]
    },
    {
      "cell_type": "code",
      "metadata": {
        "id": "b51qnKsNsA0K",
        "colab_type": "code",
        "outputId": "a427504d-4532-4f8c-8b23-634dfb546910",
        "colab": {
          "base_uri": "https://localhost:8080/",
          "height": 52
        }
      },
      "source": [
        "def countZeros(n, counter):\n",
        "  if(len(n)==0):\n",
        "    print(counter)\n",
        "    return \n",
        "  if(n[0]=='0'):\n",
        "    countZeros(n[1:], counter+1)\n",
        "  else:\n",
        "    countZeros(n[1:], counter)\n",
        "  return\n",
        "\n",
        "n = int(input())\n",
        "counter = 0\n",
        "countZeros(str(n), counter)\n"
      ],
      "execution_count": 0,
      "outputs": [
        {
          "output_type": "stream",
          "text": [
            "10204\n",
            "2\n"
          ],
          "name": "stdout"
        }
      ]
    },
    {
      "cell_type": "markdown",
      "metadata": {
        "id": "eb7zfgT_tQ8B",
        "colab_type": "text"
      },
      "source": [
        "#### 6. String to Integer"
      ]
    },
    {
      "cell_type": "code",
      "metadata": {
        "id": "qMx-DXuCnEQ5",
        "colab_type": "code",
        "outputId": "0992c817-49dd-492e-8d1b-0a0f06cc84c1",
        "colab": {
          "base_uri": "https://localhost:8080/",
          "height": 140
        }
      },
      "source": [
        "def stringToInteger(string):\n",
        "  if(len(string)==1):\n",
        "    return int(string[0])\n",
        "  return int(string[0])*(10**(len(string)-1)) + stringToInteger(string[1:])\n",
        "\n",
        "n = input()\n",
        "val = stringToInteger(n)\n",
        "print(val)"
      ],
      "execution_count": 0,
      "outputs": [
        {
          "output_type": "stream",
          "text": [
            "12345\n",
            "12345\n",
            "2345\n",
            "345\n",
            "45\n",
            "5\n",
            "12345\n"
          ],
          "name": "stdout"
        }
      ]
    },
    {
      "cell_type": "markdown",
      "metadata": {
        "id": "YnlTKF5Au012",
        "colab_type": "text"
      },
      "source": [
        "#### 7. Pair star"
      ]
    },
    {
      "cell_type": "code",
      "metadata": {
        "id": "UJURR5tJsexM",
        "colab_type": "code",
        "outputId": "2ae20618-fe37-4adf-9d21-2de93495a28a",
        "colab": {
          "base_uri": "https://localhost:8080/",
          "height": 52
        }
      },
      "source": [
        "def pairStar(string):\n",
        "  if(len(string)==0 or len(string)==1):\n",
        "    return string\n",
        "  if(string[0]==string[1]):\n",
        "    return string[0] + \"*\" + pairStar(string[1:])\n",
        "  else:\n",
        "    return string[0] + pairStar(string[1:])\n",
        "\n",
        "\n",
        "string = input()\n",
        "string = pairStar(string)\n",
        "print(string)"
      ],
      "execution_count": 0,
      "outputs": [
        {
          "output_type": "stream",
          "text": [
            "xxyy\n",
            "x*xy*y\n"
          ],
          "name": "stdout"
        }
      ]
    },
    {
      "cell_type": "markdown",
      "metadata": {
        "id": "f6dHBA68v2by",
        "colab_type": "text"
      },
      "source": [
        "#### 8. Check AB"
      ]
    },
    {
      "cell_type": "code",
      "metadata": {
        "id": "-_l0q_Opu2Mx",
        "colab_type": "code",
        "outputId": "494630d4-c68f-4d39-f321-e51bed6b255d",
        "colab": {
          "base_uri": "https://localhost:8080/",
          "height": 52
        }
      },
      "source": [
        "def checkAB(string):\n",
        "  print(string)\n",
        "  if(len(string)==0 or (len(string)==1 and string==\"A\")):\n",
        "    print(\"true\")\n",
        "    return\n",
        "  else:\n",
        "    if(string[-1]==\"A\"):\n",
        "      if(string[-3:-1]==\"BB\"):\n",
        "        checkAB(string[:-3])\n",
        "      else:\n",
        "        if(string[-2]==\"A\"):\n",
        "          print(\"false\")\n",
        "          return\n",
        "        else:\n",
        "          checkAB(string[:-1])\n",
        "    elif(string[-2:]==\"BB\"):\n",
        "      if(string[-3:-2]==\"A\"):\n",
        "        checkAB(string[:-3])\n",
        "      else:\n",
        "        if(string[-4:-2]==\"BB\"):\n",
        "          print(\"false\")\n",
        "          return\n",
        "        else:\n",
        "          checkAB(string[:-2])\n",
        "    else:\n",
        "      print(\"false\")\n",
        "      return\n",
        "\n",
        "string = \"ABBBBAA\"\n",
        "checkAB(string)"
      ],
      "execution_count": 0,
      "outputs": [
        {
          "output_type": "stream",
          "text": [
            "ABBBBAA\n",
            "false\n"
          ],
          "name": "stdout"
        }
      ]
    },
    {
      "cell_type": "markdown",
      "metadata": {
        "id": "km61d1W5kn-d",
        "colab_type": "text"
      },
      "source": [
        "#### 9. StairCase"
      ]
    },
    {
      "cell_type": "code",
      "metadata": {
        "id": "eVTWmba3v3_c",
        "colab_type": "code",
        "outputId": "13f505be-6dbf-4f17-d4a7-2f1339807c03",
        "colab": {
          "base_uri": "https://localhost:8080/",
          "height": 35
        }
      },
      "source": [
        "def staircase(n):\n",
        "  if(n==0 or n==1):\n",
        "    return 1\n",
        "  elif(n==2):\n",
        "    return 2\n",
        "  return staircase(n-1)+staircase(n-2)+staircase(n-3)\n",
        "\n",
        "n = int(input())\n",
        "\n",
        "print(staircase(n))"
      ],
      "execution_count": 0,
      "outputs": [
        {
          "output_type": "execute_result",
          "data": {
            "text/plain": [
              "'he'"
            ]
          },
          "metadata": {
            "tags": []
          },
          "execution_count": 71
        }
      ]
    },
    {
      "cell_type": "code",
      "metadata": {
        "id": "tXIdSoyZHm5d",
        "colab_type": "code",
        "colab": {}
      },
      "source": [
        ""
      ],
      "execution_count": 0,
      "outputs": []
    }
  ]
}