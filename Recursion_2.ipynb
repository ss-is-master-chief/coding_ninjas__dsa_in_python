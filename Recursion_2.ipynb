{
  "nbformat": 4,
  "nbformat_minor": 0,
  "metadata": {
    "colab": {
      "name": "Recursion - 2.ipynb",
      "provenance": [],
      "authorship_tag": "ABX9TyNlwY/84psY/Dmi9cugdImg",
      "include_colab_link": true
    },
    "kernelspec": {
      "name": "python3",
      "display_name": "Python 3"
    }
  },
  "cells": [
    {
      "cell_type": "markdown",
      "metadata": {
        "id": "view-in-github",
        "colab_type": "text"
      },
      "source": [
        "<a href=\"https://colab.research.google.com/github/ss-is-master-chief/DSA_CN/blob/master/Recursion_2.ipynb\" target=\"_parent\"><img src=\"https://colab.research.google.com/assets/colab-badge.svg\" alt=\"Open In Colab\"/></a>"
      ]
    },
    {
      "cell_type": "markdown",
      "metadata": {
        "id": "cNBwbZ-IybxJ",
        "colab_type": "text"
      },
      "source": [
        "#### 1. Recursion with Strings"
      ]
    },
    {
      "cell_type": "code",
      "metadata": {
        "id": "GZ6r-7UswA6g",
        "colab_type": "code",
        "colab": {
          "base_uri": "https://localhost:8080/",
          "height": 35
        },
        "outputId": "72955662-2622-43cf-a30d-b6d309dd4a72"
      },
      "source": [
        "def replaceChar(string):\n",
        "  if(len(string)==0):\n",
        "    return string\n",
        "  if(string[0]=='a'):\n",
        "    return 'b' + replaceChar(string[1:])\n",
        "  else:\n",
        "    return string[0] + replaceChar(string[1:])\n",
        "\n",
        "string = \"abcaba\"\n",
        "print(replaceChar(string))"
      ],
      "execution_count": 5,
      "outputs": [
        {
          "output_type": "stream",
          "text": [
            "bbcbbb\n"
          ],
          "name": "stdout"
        }
      ]
    },
    {
      "cell_type": "markdown",
      "metadata": {
        "id": "n4V3QztVyidl",
        "colab_type": "text"
      },
      "source": [
        "#### 2. Remove X"
      ]
    },
    {
      "cell_type": "code",
      "metadata": {
        "id": "gMiLIuv-xeO9",
        "colab_type": "code",
        "colab": {
          "base_uri": "https://localhost:8080/",
          "height": 52
        },
        "outputId": "85e61b16-4e70-4e9c-d24b-a6007635f2bc"
      },
      "source": [
        "# Problem: Remove x from string\n",
        "def removeX(string): \n",
        "    if(len(string)==0):\n",
        "      return string\n",
        "    if(string[0]=='x'):\n",
        "      return '' + removeX(string[1:])\n",
        "    else:\n",
        "      return string[0] + removeX(string[1:])\n",
        "\n",
        "# Main\n",
        "string = input()\n",
        "print(removeX(string))"
      ],
      "execution_count": 6,
      "outputs": [
        {
          "output_type": "stream",
          "text": [
            "xaxb\n",
            "ab\n"
          ],
          "name": "stdout"
        }
      ]
    },
    {
      "cell_type": "markdown",
      "metadata": {
        "id": "yPX8pyduzXH7",
        "colab_type": "text"
      },
      "source": [
        "#### 3. Replace Pi"
      ]
    },
    {
      "cell_type": "code",
      "metadata": {
        "id": "Owutp-unx1K6",
        "colab_type": "code",
        "colab": {
          "base_uri": "https://localhost:8080/",
          "height": 35
        },
        "outputId": "8341508e-22be-4721-eb1b-94d6cac33b94"
      },
      "source": [
        "def replacePi(string):\n",
        "  if(len(string)==0 or len(string)==1):\n",
        "    return string\n",
        "  if(string[:2]=='pi'):\n",
        "    return '3.14' + replacePi(string[2:])\n",
        "  else:\n",
        "    return string[0] + replacePi(string[1:])\n",
        "\n",
        "string = \"abcpiaba\"\n",
        "print(replacePi(string))"
      ],
      "execution_count": 8,
      "outputs": [
        {
          "output_type": "stream",
          "text": [
            "abc3.14aba\n"
          ],
          "name": "stdout"
        }
      ]
    },
    {
      "cell_type": "markdown",
      "metadata": {
        "id": "wjiJSv1mz1KG",
        "colab_type": "text"
      },
      "source": [
        "#### 4. Remove duplicates recursively"
      ]
    },
    {
      "cell_type": "code",
      "metadata": {
        "id": "6bHczAKvzY0x",
        "colab_type": "code",
        "colab": {
          "base_uri": "https://localhost:8080/",
          "height": 52
        },
        "outputId": "32e73b4c-c9a2-473e-df97-6be96493581c"
      },
      "source": [
        "# Problem ID 91, removeConsecutiveDuplicates\n",
        "def removeConsecutiveDuplicates(string):\n",
        "    if(len(string) in [0,1]):\n",
        "      return string\n",
        "    if(string[0]==string[1]):\n",
        "      return removeConsecutiveDuplicates(string[1:])\n",
        "    else:\n",
        "      return string[0]+removeConsecutiveDuplicates(string[1:])\n",
        "\n",
        "# Main\n",
        "string = input().strip()\n",
        "print(removeConsecutiveDuplicates(string))"
      ],
      "execution_count": 10,
      "outputs": [
        {
          "output_type": "stream",
          "text": [
            "aaabbcbba\n",
            "abcba\n"
          ],
          "name": "stdout"
        }
      ]
    },
    {
      "cell_type": "markdown",
      "metadata": {
        "id": "bTFC1POQ2LO7",
        "colab_type": "text"
      },
      "source": [
        "#### 5. Binary Search Algorithm"
      ]
    },
    {
      "cell_type": "code",
      "metadata": {
        "id": "p1XukpR_z4wu",
        "colab_type": "code",
        "colab": {
          "base_uri": "https://localhost:8080/",
          "height": 35
        },
        "outputId": "c2f5d7a4-0e9c-4f7e-db33-69cdc4cf7b38"
      },
      "source": [
        "def binarySearch(arr, n, si, ei):\n",
        "  if(si>ei):\n",
        "    return -1\n",
        "  mid = (si+ei)//2\n",
        "  if(arr[mid]==n):\n",
        "    return mid\n",
        "  elif(arr[mid]>n):\n",
        "    return binarySearch(arr, n, si, mid-1)\n",
        "  else:\n",
        "    return binarySearch(arr, n, mid+1, ei)\n",
        "\n",
        "arr = [1,2,3,4,5,6,7]\n",
        "print(binarySearch(arr, 4, 0, len(arr)-1))  "
      ],
      "execution_count": 11,
      "outputs": [
        {
          "output_type": "stream",
          "text": [
            "3\n"
          ],
          "name": "stdout"
        }
      ]
    },
    {
      "cell_type": "markdown",
      "metadata": {
        "id": "yKKErJDH-g9Q",
        "colab_type": "text"
      },
      "source": [
        "#### 6. Merge Sort"
      ]
    },
    {
      "cell_type": "code",
      "metadata": {
        "id": "oMmgvObe2Na9",
        "colab_type": "code",
        "colab": {}
      },
      "source": [
        "def mergeSort(arr, start, end):\n",
        "    # Please add your code here\n",
        "    pass\n",
        "\n",
        "# Main\n",
        "n=int(input())\n",
        "arr=list(int(i) for i in input().strip().split(' '))\n",
        "mergeSort(arr, 0, n)\n",
        "print(*arr)"
      ],
      "execution_count": 0,
      "outputs": []
    },
    {
      "cell_type": "markdown",
      "metadata": {
        "id": "Dw10PRso_AM4",
        "colab_type": "text"
      },
      "source": [
        "#### 7. Quick Sort"
      ]
    },
    {
      "cell_type": "code",
      "metadata": {
        "id": "uu3TTAra-jEL",
        "colab_type": "code",
        "colab": {
          "base_uri": "https://localhost:8080/",
          "height": 35
        },
        "outputId": "8898d1a2-73d1-4271-e9e0-31d2ed42c797"
      },
      "source": [
        ""
      ],
      "execution_count": 14,
      "outputs": [
        {
          "output_type": "stream",
          "text": [
            "[1, 2, 3, 4, 5]\n"
          ],
          "name": "stdout"
        }
      ]
    },
    {
      "cell_type": "markdown",
      "metadata": {
        "id": "DBotoMP7_DeA",
        "colab_type": "text"
      },
      "source": [
        "#### 8. Tower of Hanoi"
      ]
    },
    {
      "cell_type": "code",
      "metadata": {
        "id": "DiCuXlYt_B6U",
        "colab_type": "code",
        "colab": {}
      },
      "source": [
        ""
      ],
      "execution_count": 0,
      "outputs": []
    }
  ]
}