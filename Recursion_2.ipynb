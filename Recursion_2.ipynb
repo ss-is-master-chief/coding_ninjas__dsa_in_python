{
  "nbformat": 4,
  "nbformat_minor": 0,
  "metadata": {
    "colab": {
      "name": "Recursion - 2.ipynb",
      "provenance": [],
      "authorship_tag": "ABX9TyMxDhDtQKWsS596q+Ts3ZlR",
      "include_colab_link": true
    },
    "kernelspec": {
      "name": "python3",
      "display_name": "Python 3"
    }
  },
  "cells": [
    {
      "cell_type": "markdown",
      "metadata": {
        "id": "view-in-github",
        "colab_type": "text"
      },
      "source": [
        "<a href=\"https://colab.research.google.com/github/ss-is-master-chief/DSA_CN/blob/master/Recursion_2.ipynb\" target=\"_parent\"><img src=\"https://colab.research.google.com/assets/colab-badge.svg\" alt=\"Open In Colab\"/></a>"
      ]
    },
    {
      "cell_type": "markdown",
      "metadata": {
        "id": "cNBwbZ-IybxJ",
        "colab_type": "text"
      },
      "source": [
        "#### 1. Recursion with Strings"
      ]
    },
    {
      "cell_type": "code",
      "metadata": {
        "id": "GZ6r-7UswA6g",
        "colab_type": "code",
        "outputId": "72955662-2622-43cf-a30d-b6d309dd4a72",
        "colab": {
          "base_uri": "https://localhost:8080/",
          "height": 35
        }
      },
      "source": [
        "def replaceChar(string):\n",
        "  if(len(string)==0):\n",
        "    return string\n",
        "  if(string[0]=='a'):\n",
        "    return 'b' + replaceChar(string[1:])\n",
        "  else:\n",
        "    return string[0] + replaceChar(string[1:])\n",
        "\n",
        "string = \"abcaba\"\n",
        "print(replaceChar(string))"
      ],
      "execution_count": 0,
      "outputs": [
        {
          "output_type": "stream",
          "text": [
            "bbcbbb\n"
          ],
          "name": "stdout"
        }
      ]
    },
    {
      "cell_type": "markdown",
      "metadata": {
        "id": "n4V3QztVyidl",
        "colab_type": "text"
      },
      "source": [
        "#### 2. Remove X"
      ]
    },
    {
      "cell_type": "code",
      "metadata": {
        "id": "gMiLIuv-xeO9",
        "colab_type": "code",
        "outputId": "85e61b16-4e70-4e9c-d24b-a6007635f2bc",
        "colab": {
          "base_uri": "https://localhost:8080/",
          "height": 52
        }
      },
      "source": [
        "# Problem: Remove x from string\n",
        "def removeX(string): \n",
        "    if(len(string)==0):\n",
        "      return string\n",
        "    if(string[0]=='x'):\n",
        "      return '' + removeX(string[1:])\n",
        "    else:\n",
        "      return string[0] + removeX(string[1:])\n",
        "\n",
        "# Main\n",
        "string = input()\n",
        "print(removeX(string))"
      ],
      "execution_count": 0,
      "outputs": [
        {
          "output_type": "stream",
          "text": [
            "xaxb\n",
            "ab\n"
          ],
          "name": "stdout"
        }
      ]
    },
    {
      "cell_type": "markdown",
      "metadata": {
        "id": "yPX8pyduzXH7",
        "colab_type": "text"
      },
      "source": [
        "#### 3. Replace Pi"
      ]
    },
    {
      "cell_type": "code",
      "metadata": {
        "id": "Owutp-unx1K6",
        "colab_type": "code",
        "outputId": "8341508e-22be-4721-eb1b-94d6cac33b94",
        "colab": {
          "base_uri": "https://localhost:8080/",
          "height": 35
        }
      },
      "source": [
        "def replacePi(string):\n",
        "  if(len(string)==0 or len(string)==1):\n",
        "    return string\n",
        "  if(string[:2]=='pi'):\n",
        "    return '3.14' + replacePi(string[2:])\n",
        "  else:\n",
        "    return string[0] + replacePi(string[1:])\n",
        "\n",
        "string = \"abcpiaba\"\n",
        "print(replacePi(string))"
      ],
      "execution_count": 0,
      "outputs": [
        {
          "output_type": "stream",
          "text": [
            "abc3.14aba\n"
          ],
          "name": "stdout"
        }
      ]
    },
    {
      "cell_type": "markdown",
      "metadata": {
        "id": "wjiJSv1mz1KG",
        "colab_type": "text"
      },
      "source": [
        "#### 4. Remove duplicates recursively"
      ]
    },
    {
      "cell_type": "code",
      "metadata": {
        "id": "6bHczAKvzY0x",
        "colab_type": "code",
        "outputId": "32e73b4c-c9a2-473e-df97-6be96493581c",
        "colab": {
          "base_uri": "https://localhost:8080/",
          "height": 52
        }
      },
      "source": [
        "# Problem ID 91, removeConsecutiveDuplicates\n",
        "def removeConsecutiveDuplicates(string):\n",
        "    if(len(string) in [0,1]):\n",
        "      return string\n",
        "    if(string[0]==string[1]):\n",
        "      return removeConsecutiveDuplicates(string[1:])\n",
        "    else:\n",
        "      return string[0]+removeConsecutiveDuplicates(string[1:])\n",
        "\n",
        "# Main\n",
        "string = input().strip()\n",
        "print(removeConsecutiveDuplicates(string))"
      ],
      "execution_count": 0,
      "outputs": [
        {
          "output_type": "stream",
          "text": [
            "aaabbcbba\n",
            "abcba\n"
          ],
          "name": "stdout"
        }
      ]
    },
    {
      "cell_type": "markdown",
      "metadata": {
        "id": "bTFC1POQ2LO7",
        "colab_type": "text"
      },
      "source": [
        "#### 5. Binary Search Algorithm"
      ]
    },
    {
      "cell_type": "code",
      "metadata": {
        "id": "p1XukpR_z4wu",
        "colab_type": "code",
        "outputId": "c2f5d7a4-0e9c-4f7e-db33-69cdc4cf7b38",
        "colab": {
          "base_uri": "https://localhost:8080/",
          "height": 35
        }
      },
      "source": [
        "def binarySearch(arr, n, si, ei):\n",
        "  if(si>ei):\n",
        "    return -1\n",
        "  mid = (si+ei)//2\n",
        "  if(arr[mid]==n):\n",
        "    return mid\n",
        "  elif(arr[mid]>n):\n",
        "    return binarySearch(arr, n, si, mid-1)\n",
        "  else:\n",
        "    return binarySearch(arr, n, mid+1, ei)\n",
        "\n",
        "arr = [1,2,3,4,5,6,7]\n",
        "print(binarySearch(arr, 4, 0, len(arr)-1))  "
      ],
      "execution_count": 0,
      "outputs": [
        {
          "output_type": "stream",
          "text": [
            "3\n"
          ],
          "name": "stdout"
        }
      ]
    },
    {
      "cell_type": "markdown",
      "metadata": {
        "id": "yKKErJDH-g9Q",
        "colab_type": "text"
      },
      "source": [
        "#### 6. Merge Sort"
      ]
    },
    {
      "cell_type": "code",
      "metadata": {
        "id": "oMmgvObe2Na9",
        "colab_type": "code",
        "colab": {
          "base_uri": "https://localhost:8080/",
          "height": 246
        },
        "outputId": "6409cc57-685d-4632-c4ac-78aac205841e"
      },
      "source": [
        "def merge(left_arr, right_arr, arr):\n",
        "  i = 0\n",
        "  j = 0\n",
        "  k = 0\n",
        "\n",
        "  while(i<len(left_arr) and j<len(right_arr)):\n",
        "    if(left_arr[i]<right_arr[j]):\n",
        "      arr[k] = left_arr[i]\n",
        "      k = k+1\n",
        "      i = i+1\n",
        "    else:\n",
        "      arr[k] = right_arr[j]\n",
        "      k = k+1\n",
        "      j = j+1\n",
        "  \n",
        "  while(i<len(left_arr)):\n",
        "    arr[k] = left_arr[i]\n",
        "    k = k+1\n",
        "    i = i+1\n",
        "\n",
        "  while(j<len(right_arr)):\n",
        "    arr[k] = right_arr[j]\n",
        "    k = k+1\n",
        "    j = j+1\n",
        "  \n",
        "\n",
        "def mergeSort(arr):\n",
        "    # Please add your code here\n",
        "    if(len(arr)==0 or len(arr)==1):\n",
        "      return\n",
        "\n",
        "    mid = len(arr)//2\n",
        "\n",
        "    a1 = arr[0:mid]\n",
        "    a2 = arr[mid:]\n",
        "    mergeSort(a1)\n",
        "    mergeSort(a2)\n",
        "\n",
        "    merge(a1, a2, arr)\n",
        "    \n",
        "# Main\n",
        "n=int(input())\n",
        "arr=list(int(i) for i in input().strip().split(' '))\n",
        "mergeSort(arr)\n",
        "print(*arr)"
      ],
      "execution_count": 19,
      "outputs": [
        {
          "output_type": "stream",
          "text": [
            "7\n",
            "10 5 3 1 7 94\n",
            "[10, 5, 3]\n",
            "[1, 7, 94]\n",
            "[10]\n",
            "[5, 3]\n",
            "[5]\n",
            "[3]\n",
            "[1]\n",
            "[7, 94]\n",
            "[7]\n",
            "[94]\n",
            "1 3 5 7 10 94\n"
          ],
          "name": "stdout"
        }
      ]
    },
    {
      "cell_type": "markdown",
      "metadata": {
        "id": "Dw10PRso_AM4",
        "colab_type": "text"
      },
      "source": [
        "#### 7. Quick Sort"
      ]
    },
    {
      "cell_type": "code",
      "metadata": {
        "id": "uu3TTAra-jEL",
        "colab_type": "code",
        "outputId": "fef01f2c-ebaf-45b8-9377-c1960e0e5050",
        "colab": {
          "base_uri": "https://localhost:8080/",
          "height": 35
        }
      },
      "source": [
        "def partition(arr, si, ei):\n",
        "  pivot = arr[si]\n",
        "  c = 0\n",
        "  for i in range(si, ei+1):\n",
        "    if(arr[i]<pivot):\n",
        "      c += 1\n",
        "\n",
        "  arr[si+c], arr[si] = arr[si], arr[si+c]\n",
        "  pivot_index = si + c\n",
        "  i = si\n",
        "  j = ei\n",
        "  while(i<j):\n",
        "    if(arr[i]<pivot):\n",
        "      i += 1\n",
        "    elif arr[j]>=pivot:\n",
        "      j -= 1\n",
        "    else:\n",
        "      arr[i], arr[j] = arr[j], arr[i]\n",
        "      i += 1\n",
        "      j -= 1\n",
        "  return pivot_index  \n",
        "\n",
        "\n",
        "\n",
        "def quickSort(arr, si, ei):\n",
        "  if(si>=ei):\n",
        "    return\n",
        "  \n",
        "  pivot_index = partition(arr, si, ei)\n",
        "  quickSort(arr, si, pivot_index-1)\n",
        "  quickSort(arr, pivot_index+1, ei)\n",
        "\n",
        "\n",
        "arr = [10, 9, 8, 6, 1, 7, 3, 2]\n",
        "quickSort(arr, 0, len(arr)-1)\n",
        "print(arr)"
      ],
      "execution_count": 21,
      "outputs": [
        {
          "output_type": "stream",
          "text": [
            "[1, 2, 3, 6, 7, 8, 9, 10]\n"
          ],
          "name": "stdout"
        }
      ]
    },
    {
      "cell_type": "markdown",
      "metadata": {
        "id": "DBotoMP7_DeA",
        "colab_type": "text"
      },
      "source": [
        "#### 8. Tower of Hanoi"
      ]
    },
    {
      "cell_type": "code",
      "metadata": {
        "id": "DiCuXlYt_B6U",
        "colab_type": "code",
        "colab": {
          "base_uri": "https://localhost:8080/",
          "height": 562
        },
        "outputId": "8f5238a3-cc60-483d-cd07-55129b37d023"
      },
      "source": [
        "def towerOfHanoi(n, a, b, c):\n",
        "  if(n==0):\n",
        "    return\n",
        "  if(n==1):\n",
        "    print(a, c)\n",
        "    return\n",
        "  towerOfHanoi(n-1, a, c, b)\n",
        "  print(a, c)\n",
        "  towerOfHanoi(n-1, b, a, c)\n",
        "\n",
        "towerOfHanoi(5, 'a', 'b', 'c')"
      ],
      "execution_count": 23,
      "outputs": [
        {
          "output_type": "stream",
          "text": [
            "a c\n",
            "a b\n",
            "c b\n",
            "a c\n",
            "b a\n",
            "b c\n",
            "a c\n",
            "a b\n",
            "c b\n",
            "c a\n",
            "b a\n",
            "c b\n",
            "a c\n",
            "a b\n",
            "c b\n",
            "a c\n",
            "b a\n",
            "b c\n",
            "a c\n",
            "b a\n",
            "c b\n",
            "c a\n",
            "b a\n",
            "b c\n",
            "a c\n",
            "a b\n",
            "c b\n",
            "a c\n",
            "b a\n",
            "b c\n",
            "a c\n"
          ],
          "name": "stdout"
        }
      ]
    }
  ]
}