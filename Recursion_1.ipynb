{
  "nbformat": 4,
  "nbformat_minor": 0,
  "metadata": {
    "colab": {
      "name": "Recursion - 1.ipynb",
      "provenance": [],
      "authorship_tag": "ABX9TyMXVLSFLcP/opoFOReNhyq3",
      "include_colab_link": true
    },
    "kernelspec": {
      "name": "python3",
      "display_name": "Python 3"
    }
  },
  "cells": [
    {
      "cell_type": "markdown",
      "metadata": {
        "id": "view-in-github",
        "colab_type": "text"
      },
      "source": [
        "<a href=\"https://colab.research.google.com/github/ss-is-master-chief/DSA_CN/blob/master/Recursion_1.ipynb\" target=\"_parent\"><img src=\"https://colab.research.google.com/assets/colab-badge.svg\" alt=\"Open In Colab\"/></a>"
      ]
    },
    {
      "cell_type": "markdown",
      "metadata": {
        "id": "a_UtihvAGDoM",
        "colab_type": "text"
      },
      "source": [
        "#### 1. Power of a Number"
      ]
    },
    {
      "cell_type": "code",
      "metadata": {
        "id": "KEOB4e0bECeO",
        "colab_type": "code",
        "outputId": "d0bd8957-9da3-49c8-fe4e-85c0cd0dec9f",
        "colab": {
          "base_uri": "https://localhost:8080/",
          "height": 52
        }
      },
      "source": [
        "def powerNumber(x, n):\n",
        "    if(n==0):\n",
        "        return 1\n",
        "    return x * powerNumber(x, n-1)\n",
        "\n",
        "x, n = input().split(\" \")\n",
        "x = int(x)\n",
        "n = int(n)\n",
        "\n",
        "print(powerNumber(x, n))"
      ],
      "execution_count": 0,
      "outputs": [
        {
          "output_type": "stream",
          "text": [
            "3 4\n",
            "81\n"
          ],
          "name": "stdout"
        }
      ]
    },
    {
      "cell_type": "markdown",
      "metadata": {
        "id": "BlushWuFVUwk",
        "colab_type": "text"
      },
      "source": [
        "#### 2. Sum of Array using Recursion"
      ]
    },
    {
      "cell_type": "code",
      "metadata": {
        "id": "6t7O63iBFD-o",
        "colab_type": "code",
        "outputId": "fcbc5a42-b38e-4d5f-b45b-b59917f8ca45",
        "colab": {
          "base_uri": "https://localhost:8080/",
          "height": 70
        }
      },
      "source": [
        "def sumArray(arr, n):\n",
        "    # Please add your code here\n",
        "    if(n==1):\n",
        "        return arr[0]\n",
        "    return arr[n-1]+sumArray(arr, n-1)\n",
        "\n",
        "# Main\n",
        "from sys import setrecursionlimit\n",
        "setrecursionlimit(11000)\n",
        "\n",
        "n=int(input())\n",
        "arr=list(int(i) for i in input().strip().split(' '))\n",
        "\n",
        "print(sumArray(arr, n))"
      ],
      "execution_count": 0,
      "outputs": [
        {
          "output_type": "stream",
          "text": [
            "3\n",
            "1 2 3\n",
            "6\n"
          ],
          "name": "stdout"
        }
      ]
    },
    {
      "cell_type": "markdown",
      "metadata": {
        "id": "X-LQicn-Ys3i",
        "colab_type": "text"
      },
      "source": [
        "#### 3. Check presence of element in Array"
      ]
    },
    {
      "cell_type": "code",
      "metadata": {
        "id": "enmoyeAcGn1G",
        "colab_type": "code",
        "outputId": "779fe45b-956d-4b4e-ea9b-2f524ea20347",
        "colab": {
          "base_uri": "https://localhost:8080/",
          "height": 87
        }
      },
      "source": [
        "def checkNumber(arr, x):\n",
        "    # Please add your code here\n",
        "    if(len(arr)==0):\n",
        "      return False\n",
        "    if(arr[0]==x):\n",
        "      return True\n",
        "    return checkNumber(arr[1:], x)\n",
        "    \n",
        "# Main\n",
        "from sys import setrecursionlimit\n",
        "setrecursionlimit(11000)\n",
        "\n",
        "n=int(input())\n",
        "arr=list(int(i) for i in input().strip().split(' '))\n",
        "x=int(input())\n",
        "\n",
        "if checkNumber(arr, x):\n",
        "    print('true')\n",
        "else:\n",
        "    print('false')"
      ],
      "execution_count": 0,
      "outputs": [
        {
          "output_type": "stream",
          "text": [
            "3\n",
            "2 10 8\n",
            "10\n",
            "true\n"
          ],
          "name": "stdout"
        }
      ]
    },
    {
      "cell_type": "markdown",
      "metadata": {
        "id": "9_bFjhgaw8v3",
        "colab_type": "text"
      },
      "source": [
        "#### 4. First Index of Number in Array"
      ]
    },
    {
      "cell_type": "code",
      "metadata": {
        "id": "SzzShgr7YVkX",
        "colab_type": "code",
        "outputId": "e5c32a49-864a-49fd-b383-375f9258ad5d",
        "colab": {
          "base_uri": "https://localhost:8080/",
          "height": 87
        }
      },
      "source": [
        "def firstIndex(arr, x, n):\n",
        "    # Please add your code here\n",
        "    if(len(arr)==0):\n",
        "      return -1\n",
        "    if(arr[0]==x):\n",
        "      return n-len(arr)\n",
        "    return firstIndex(arr[1:], x, n)\n",
        "\n",
        "# Main\n",
        "from sys import setrecursionlimit\n",
        "setrecursionlimit(11000)\n",
        "\n",
        "n=int(input())\n",
        "arr=list(int(i) for i in input().strip().split(' '))\n",
        "x=int(input())\n",
        "\n",
        "print(firstIndex(arr, x, n))"
      ],
      "execution_count": 0,
      "outputs": [
        {
          "output_type": "stream",
          "text": [
            "4\n",
            "9 8 10 8\n",
            "7\n",
            "-1\n"
          ],
          "name": "stdout"
        }
      ]
    },
    {
      "cell_type": "markdown",
      "metadata": {
        "id": "B4VstNip4ELx",
        "colab_type": "text"
      },
      "source": [
        "#### 5. Last Index of Number in Array"
      ]
    },
    {
      "cell_type": "code",
      "metadata": {
        "id": "XpGRGfFyw9h0",
        "colab_type": "code",
        "colab": {
          "base_uri": "https://localhost:8080/",
          "height": 87
        },
        "outputId": "df4a56d4-3aaa-4166-be0e-513b68052282"
      },
      "source": [
        "def lastIndex(arr, x):\n",
        "  if(len(arr)==0):\n",
        "    return -1\n",
        "  if(arr[len(arr)-1]==x):\n",
        "    return len(arr)-1\n",
        "  return lastIndex(arr[:len(arr)-1], x)\n",
        "  \n",
        "\n",
        "from sys import setrecursionlimit\n",
        "setrecursionlimit(11000)\n",
        "\n",
        "n=int(input())\n",
        "arr=list(int(i) for i in input().strip().split(' '))\n",
        "x=int(input())\n",
        "\n",
        "print(lastIndex(arr, x))"
      ],
      "execution_count": 3,
      "outputs": [
        {
          "output_type": "stream",
          "text": [
            "4\n",
            "9 8 10 8\n",
            "11\n",
            "-1\n"
          ],
          "name": "stdout"
        }
      ]
    },
    {
      "cell_type": "code",
      "metadata": {
        "id": "O53QpX0I6GIs",
        "colab_type": "code",
        "colab": {}
      },
      "source": [
        ""
      ],
      "execution_count": 0,
      "outputs": []
    }
  ]
}